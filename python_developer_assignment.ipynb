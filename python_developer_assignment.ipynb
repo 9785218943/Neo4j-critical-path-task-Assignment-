{
  "nbformat": 4,
  "nbformat_minor": 0,
  "metadata": {
    "colab": {
      "provenance": []
    },
    "kernelspec": {
      "name": "python3",
      "display_name": "Python 3"
    },
    "language_info": {
      "name": "python"
    }
  },
  "cells": [
    {
      "cell_type": "code",
      "execution_count": null,
      "metadata": {
        "id": "vfeIOwDRtTXs"
      },
      "outputs": [],
      "source": []
    },
    {
      "cell_type": "code",
      "source": [],
      "metadata": {
        "id": "n8S9xMgttU6k"
      },
      "execution_count": null,
      "outputs": []
    },
    {
      "cell_type": "code",
      "source": [
        "!pip install neo4j\n",
        "\n"
      ],
      "metadata": {
        "id": "sb5tsBsytVKr",
        "outputId": "610d2264-863c-40c4-bd91-c4683c93dc93",
        "colab": {
          "base_uri": "https://localhost:8080/"
        }
      },
      "execution_count": null,
      "outputs": [
        {
          "output_type": "stream",
          "name": "stdout",
          "text": [
            "Collecting neo4j\n",
            "  Downloading neo4j-5.28.1-py3-none-any.whl.metadata (5.9 kB)\n",
            "Requirement already satisfied: pytz in /usr/local/lib/python3.11/dist-packages (from neo4j) (2025.2)\n",
            "Downloading neo4j-5.28.1-py3-none-any.whl (312 kB)\n",
            "\u001b[?25l   \u001b[90m━━━━━━━━━━━━━━━━━━━━━━━━━━━━━━━━━━━━━━━━\u001b[0m \u001b[32m0.0/312.3 kB\u001b[0m \u001b[31m?\u001b[0m eta \u001b[36m-:--:--\u001b[0m\r\u001b[2K   \u001b[91m━━━━━━━━━━━\u001b[0m\u001b[91m╸\u001b[0m\u001b[90m━━━━━━━━━━━━━━━━━━━━━━━━━━━━\u001b[0m \u001b[32m92.2/312.3 kB\u001b[0m \u001b[31m2.5 MB/s\u001b[0m eta \u001b[36m0:00:01\u001b[0m\r\u001b[2K   \u001b[90m━━━━━━━━━━━━━━━━━━━━━━━━━━━━━━━━━━━━━━━━\u001b[0m \u001b[32m312.3/312.3 kB\u001b[0m \u001b[31m4.5 MB/s\u001b[0m eta \u001b[36m0:00:00\u001b[0m\n",
            "\u001b[?25hInstalling collected packages: neo4j\n",
            "Successfully installed neo4j-5.28.1\n"
          ]
        }
      ]
    },
    {
      "cell_type": "code",
      "source": [
        "from neo4j import GraphDatabase\n",
        "\n",
        "# Sandbox details (use your values here 👇)\n",
        "URI = \"bolt://13.220.157.217:7687\"\n",
        "AUTH = (\"neo4j\", \"lace-typist-comment\")\n",
        "\n",
        "driver = GraphDatabase.driver(URI, auth=AUTH)\n",
        "with driver.session(database=\"neo4j\") as session:\n",
        "    result = session.run(\"\"\"\n",
        "        MATCH path = (start:Task)-[:DEPENDS_ON*]->(end:Task)\n",
        "        WHERE NOT ()-[:DEPENDS_ON]->(start)\n",
        "          AND NOT (end)-[:DEPENDS_ON]->()\n",
        "        WITH path,\n",
        "             REDUCE(total = 0, t IN nodes(path) | total + t.duration) AS path_duration\n",
        "        ORDER BY path_duration DESC\n",
        "        LIMIT 1\n",
        "        RETURN [t IN nodes(path) | t.name] AS critical_path, path_duration\n",
        "    \"\"\")\n",
        "\n",
        "    for record in result:\n",
        "        print(\"Critical Path:\", record[\"critical_path\"])\n",
        "        print(\"Total Duration:\", record[\"path_duration\"], \"days\")\n",
        "\n"
      ],
      "metadata": {
        "id": "ankK9A90tWLt",
        "colab": {
          "base_uri": "https://localhost:8080/"
        },
        "outputId": "24e5ba69-bec2-4902-b609-58df1dca206a"
      },
      "execution_count": null,
      "outputs": [
        {
          "output_type": "stream",
          "name": "stdout",
          "text": [
            "Critical Path: ['Deployment', 'Testing', 'Model Integration', 'Data Pipeline']\n",
            "Total Duration: 11 days\n"
          ]
        }
      ]
    },
    {
      "cell_type": "code",
      "source": [],
      "metadata": {
        "id": "6vLAykM4RQRB"
      },
      "execution_count": null,
      "outputs": []
    }
  ]
}